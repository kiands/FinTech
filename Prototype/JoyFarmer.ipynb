{
 "cells": [
  {
   "cell_type": "code",
   "execution_count": 1,
   "metadata": {},
   "outputs": [],
   "source": [
    "import pandas as pd\n",
    "from ast import literal_eval\n",
    "import json"
   ]
  },
  {
   "cell_type": "code",
   "execution_count": 2,
   "metadata": {},
   "outputs": [],
   "source": [
    "df = pd.read_csv('QASet.csv').fillna('null')"
   ]
  },
  {
   "cell_type": "code",
   "execution_count": 3,
   "metadata": {
    "scrolled": false
   },
   "outputs": [
    {
     "data": {
      "text/html": [
       "<div>\n",
       "<style scoped>\n",
       "    .dataframe tbody tr th:only-of-type {\n",
       "        vertical-align: middle;\n",
       "    }\n",
       "\n",
       "    .dataframe tbody tr th {\n",
       "        vertical-align: top;\n",
       "    }\n",
       "\n",
       "    .dataframe thead th {\n",
       "        text-align: right;\n",
       "    }\n",
       "</style>\n",
       "<table border=\"1\" class=\"dataframe\">\n",
       "  <thead>\n",
       "    <tr style=\"text-align: right;\">\n",
       "      <th></th>\n",
       "      <th>stage</th>\n",
       "      <th>id</th>\n",
       "      <th>sub_id</th>\n",
       "      <th>question</th>\n",
       "      <th>judgement</th>\n",
       "      <th>conflict</th>\n",
       "      <th>jump</th>\n",
       "    </tr>\n",
       "  </thead>\n",
       "  <tbody>\n",
       "    <tr>\n",
       "      <th>0</th>\n",
       "      <td>1</td>\n",
       "      <td>1</td>\n",
       "      <td>1.1.1</td>\n",
       "      <td>年齡</td>\n",
       "      <td>null</td>\n",
       "      <td>null</td>\n",
       "      <td>null</td>\n",
       "    </tr>\n",
       "    <tr>\n",
       "      <th>1</th>\n",
       "      <td>1</td>\n",
       "      <td>2</td>\n",
       "      <td>1.2.1</td>\n",
       "      <td>性別</td>\n",
       "      <td>null</td>\n",
       "      <td>null</td>\n",
       "      <td>null</td>\n",
       "    </tr>\n",
       "    <tr>\n",
       "      <th>2</th>\n",
       "      <td>1</td>\n",
       "      <td>3</td>\n",
       "      <td>1.3.1</td>\n",
       "      <td>情感狀況</td>\n",
       "      <td>null</td>\n",
       "      <td>null</td>\n",
       "      <td>null</td>\n",
       "    </tr>\n",
       "    <tr>\n",
       "      <th>3</th>\n",
       "      <td>2</td>\n",
       "      <td>1</td>\n",
       "      <td>2.1.1</td>\n",
       "      <td>通勤</td>\n",
       "      <td>null</td>\n",
       "      <td>null</td>\n",
       "      <td>null</td>\n",
       "    </tr>\n",
       "    <tr>\n",
       "      <th>4</th>\n",
       "      <td>2</td>\n",
       "      <td>2</td>\n",
       "      <td>2.2.1</td>\n",
       "      <td>外食or家裡</td>\n",
       "      <td>null</td>\n",
       "      <td>null</td>\n",
       "      <td>[{\"answer\":[\"外食\",\"家裡\"],\"jump\":[\"2.3.1\",\"2.4.1\"]}]</td>\n",
       "    </tr>\n",
       "    <tr>\n",
       "      <th>5</th>\n",
       "      <td>2</td>\n",
       "      <td>3</td>\n",
       "      <td>2.3.1</td>\n",
       "      <td>餐館or夜市or超商or公司</td>\n",
       "      <td>null</td>\n",
       "      <td>null</td>\n",
       "      <td>3.1.1</td>\n",
       "    </tr>\n",
       "    <tr>\n",
       "      <th>6</th>\n",
       "      <td>2</td>\n",
       "      <td>4</td>\n",
       "      <td>2.4.1</td>\n",
       "      <td>家裡吃得豐盛or簡單</td>\n",
       "      <td>[{\"answer\":[\"豐盛\",\"簡單\"],\"rank\":[1,2]}]</td>\n",
       "      <td>null</td>\n",
       "      <td>3.1.1</td>\n",
       "    </tr>\n",
       "    <tr>\n",
       "      <th>7</th>\n",
       "      <td>3</td>\n",
       "      <td>1</td>\n",
       "      <td>3.1.1</td>\n",
       "      <td>覺得如何</td>\n",
       "      <td>null</td>\n",
       "      <td>null</td>\n",
       "      <td>null</td>\n",
       "    </tr>\n",
       "  </tbody>\n",
       "</table>\n",
       "</div>"
      ],
      "text/plain": [
       "   stage  id sub_id        question                              judgement  \\\n",
       "0      1   1  1.1.1              年齡                                   null   \n",
       "1      1   2  1.2.1              性別                                   null   \n",
       "2      1   3  1.3.1            情感狀況                                   null   \n",
       "3      2   1  2.1.1              通勤                                   null   \n",
       "4      2   2  2.2.1          外食or家裡                                   null   \n",
       "5      2   3  2.3.1  餐館or夜市or超商or公司                                   null   \n",
       "6      2   4  2.4.1      家裡吃得豐盛or簡單  [{\"answer\":[\"豐盛\",\"簡單\"],\"rank\":[1,2]}]   \n",
       "7      3   1  3.1.1            覺得如何                                   null   \n",
       "\n",
       "  conflict                                               jump  \n",
       "0     null                                               null  \n",
       "1     null                                               null  \n",
       "2     null                                               null  \n",
       "3     null                                               null  \n",
       "4     null  [{\"answer\":[\"外食\",\"家裡\"],\"jump\":[\"2.3.1\",\"2.4.1\"]}]  \n",
       "5     null                                              3.1.1  \n",
       "6     null                                              3.1.1  \n",
       "7     null                                               null  "
      ]
     },
     "execution_count": 3,
     "metadata": {},
     "output_type": "execute_result"
    }
   ],
   "source": [
    "df"
   ]
  },
  {
   "cell_type": "code",
   "execution_count": 4,
   "metadata": {},
   "outputs": [],
   "source": [
    "def ruleParser(str):\n",
    "    lst = literal_eval(str)\n",
    "    rule_df = pd.DataFrame(lst[0])\n",
    "    return rule_df"
   ]
  },
  {
   "cell_type": "code",
   "execution_count": 5,
   "metadata": {},
   "outputs": [],
   "source": [
    "jdf = ruleParser(df.iloc[6]['judgement'])"
   ]
  },
  {
   "cell_type": "code",
   "execution_count": 6,
   "metadata": {},
   "outputs": [
    {
     "data": {
      "text/html": [
       "<div>\n",
       "<style scoped>\n",
       "    .dataframe tbody tr th:only-of-type {\n",
       "        vertical-align: middle;\n",
       "    }\n",
       "\n",
       "    .dataframe tbody tr th {\n",
       "        vertical-align: top;\n",
       "    }\n",
       "\n",
       "    .dataframe thead th {\n",
       "        text-align: right;\n",
       "    }\n",
       "</style>\n",
       "<table border=\"1\" class=\"dataframe\">\n",
       "  <thead>\n",
       "    <tr style=\"text-align: right;\">\n",
       "      <th></th>\n",
       "      <th>answer</th>\n",
       "      <th>rank</th>\n",
       "    </tr>\n",
       "  </thead>\n",
       "  <tbody>\n",
       "    <tr>\n",
       "      <th>0</th>\n",
       "      <td>豐盛</td>\n",
       "      <td>1</td>\n",
       "    </tr>\n",
       "    <tr>\n",
       "      <th>1</th>\n",
       "      <td>簡單</td>\n",
       "      <td>2</td>\n",
       "    </tr>\n",
       "  </tbody>\n",
       "</table>\n",
       "</div>"
      ],
      "text/plain": [
       "  answer  rank\n",
       "0     豐盛     1\n",
       "1     簡單     2"
      ]
     },
     "execution_count": 6,
     "metadata": {},
     "output_type": "execute_result"
    }
   ],
   "source": [
    "jdf"
   ]
  },
  {
   "cell_type": "code",
   "execution_count": 7,
   "metadata": {},
   "outputs": [],
   "source": [
    "answer = '豐盛'\n",
    "rank = jdf[jdf.answer==answer].loc[0]['rank']"
   ]
  },
  {
   "cell_type": "code",
   "execution_count": 8,
   "metadata": {},
   "outputs": [
    {
     "data": {
      "text/plain": [
       "1"
      ]
     },
     "execution_count": 8,
     "metadata": {},
     "output_type": "execute_result"
    }
   ],
   "source": [
    "rank"
   ]
  },
  {
   "cell_type": "code",
   "execution_count": 10,
   "metadata": {},
   "outputs": [
    {
     "name": "stdout",
     "output_type": "stream",
     "text": [
      "年齡\n",
      "21\n",
      "性別\n",
      "男\n",
      "情感狀況\n",
      "solo\n",
      "通勤\n",
      "bus\n",
      "外食or家裡\n",
      "家裡\n",
      "  answer   jump\n",
      "0     外食  2.3.1\n",
      "1     家裡  2.4.1\n",
      "6\n",
      "4\n",
      "家裡吃得豐盛or簡單\n",
      "簡單\n",
      "  answer  rank\n",
      "0     豐盛     1\n",
      "1     簡單     2\n",
      "覺得如何\n",
      "還行\n"
     ]
    }
   ],
   "source": [
    "index = 0\n",
    "while index < len(df):\n",
    "    question = df.iloc[index]['question']\n",
    "    print(question)\n",
    "    #之後可以做一個專門的user_answer_analyzer，這樣就可以回傳被「正規化」的答案\n",
    "    user_answer = input()\n",
    "    #條件判斷\n",
    "    if df.iloc[index]['judgement'] != 'null':\n",
    "        print(ruleParser(df.iloc[index]['judgement']))\n",
    "    else:\n",
    "        pass\n",
    "    #跳轉判斷\n",
    "    if df.iloc[index]['jump'] != 'null':\n",
    "        try:\n",
    "            rule = ruleParser(df.iloc[index]['jump'])\n",
    "            print(rule)\n",
    "            jump_to = rule[rule.answer == user_answer].iloc[0]['jump']\n",
    "            print(df[df.sub_id == jump_to].index.to_list()[0])\n",
    "            print(index)\n",
    "            distance = df[df.sub_id == jump_to].index.to_list()[0] - index\n",
    "            index = index + distance\n",
    "        except:\n",
    "            jump_to = df.iloc[index]['jump']\n",
    "            distance = df[df.sub_id == jump_to].index.to_list()[0] - index\n",
    "            index = index + distance\n",
    "    else:\n",
    "        index = index + 1"
   ]
  },
  {
   "cell_type": "code",
   "execution_count": null,
   "metadata": {},
   "outputs": [],
   "source": []
  }
 ],
 "metadata": {
  "kernelspec": {
   "display_name": "Python 3",
   "language": "python",
   "name": "python3"
  },
  "language_info": {
   "codemirror_mode": {
    "name": "ipython",
    "version": 3
   },
   "file_extension": ".py",
   "mimetype": "text/x-python",
   "name": "python",
   "nbconvert_exporter": "python",
   "pygments_lexer": "ipython3",
   "version": "3.8.5"
  }
 },
 "nbformat": 4,
 "nbformat_minor": 4
}
